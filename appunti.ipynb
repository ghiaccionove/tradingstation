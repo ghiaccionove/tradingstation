{
 "cells": [
  {
   "cell_type": "code",
   "execution_count": 1,
   "metadata": {},
   "outputs": [],
   "source": [
    "from utils.exchange_manager import Exchange\n",
    "from utils.data_fetcher import *\n",
    "from signals.signals_generator import *"
   ]
  },
  {
   "cell_type": "code",
   "execution_count": 2,
   "metadata": {},
   "outputs": [],
   "source": [
    "exchange = Exchange('bybit')"
   ]
  },
  {
   "cell_type": "code",
   "execution_count": 3,
   "metadata": {},
   "outputs": [],
   "source": [
    "from strategies.base_strategy import Valubot"
   ]
  },
  {
   "cell_type": "code",
   "execution_count": 3,
   "metadata": {},
   "outputs": [],
   "source": [
    "symbol = 'TON/USDT:USDT'"
   ]
  },
  {
   "cell_type": "code",
   "execution_count": 7,
   "metadata": {},
   "outputs": [
    {
     "name": "stderr",
     "output_type": "stream",
     "text": [
      "TradingStation - INFO - TON/USDT:USDT\n"
     ]
    }
   ],
   "source": [
    "data = fetch_market_data(exchange, symbol)"
   ]
  },
  {
   "cell_type": "code",
   "execution_count": 8,
   "metadata": {},
   "outputs": [
    {
     "data": {
      "text/plain": [
       "'Wait'"
      ]
     },
     "execution_count": 8,
     "metadata": {},
     "output_type": "execute_result"
    }
   ],
   "source": [
    "Valubot(data, exchange).generate_signal(symbol)"
   ]
  },
  {
   "cell_type": "code",
   "execution_count": 3,
   "metadata": {},
   "outputs": [],
   "source": [
    "symbols = fetch_symbols(exchange)"
   ]
  },
  {
   "cell_type": "code",
   "execution_count": 35,
   "metadata": {},
   "outputs": [],
   "source": [
    "og = markets[markets['symbol'] == 'OG/USDT:USDT']"
   ]
  },
  {
   "cell_type": "code",
   "execution_count": 66,
   "metadata": {},
   "outputs": [
    {
     "data": {
      "text/plain": [
       "{'leverage': {'min': 1.0, 'max': 12.5},\n",
       " 'amount': {'min': 0.1, 'max': 8250.0},\n",
       " 'price': {'min': 0.0001, 'max': 199.9998},\n",
       " 'cost': {'min': None, 'max': None}}"
      ]
     },
     "execution_count": 66,
     "metadata": {},
     "output_type": "execute_result"
    }
   ],
   "source": [
    "og['limits'].iloc[0]"
   ]
  },
  {
   "cell_type": "code",
   "execution_count": 8,
   "metadata": {},
   "outputs": [],
   "source": [
    "data = exchange.ccxt.load_markets()"
   ]
  },
  {
   "cell_type": "code",
   "execution_count": 13,
   "metadata": {},
   "outputs": [
    {
     "data": {
      "text/plain": [
       "{'leverage': {'min': 1.0, 'max': 25.0},\n",
       " 'amount': {'min': 0.1, 'max': 158760.0},\n",
       " 'price': {'min': 0.0001, 'max': 199.9998},\n",
       " 'cost': {'min': None, 'max': None}}"
      ]
     },
     "execution_count": 13,
     "metadata": {},
     "output_type": "execute_result"
    }
   ],
   "source": [
    "data['TON/USDT:USDT']['limits']"
   ]
  },
  {
   "cell_type": "code",
   "execution_count": 4,
   "metadata": {},
   "outputs": [],
   "source": [
    "from orders.ordermanager import OrderManager"
   ]
  },
  {
   "cell_type": "code",
   "execution_count": 5,
   "metadata": {},
   "outputs": [],
   "source": [
    "order_manager = OrderManager(exchange)"
   ]
  },
  {
   "cell_type": "code",
   "execution_count": 6,
   "metadata": {},
   "outputs": [
    {
     "name": "stderr",
     "output_type": "stream",
     "text": [
      "TradingStation - ERROR - Errore durante il piazzamento\n",
      "Traceback (most recent call last):\n",
      "  File \"c:\\Users\\antci\\Projects\\tradingstation\\orders\\ordermanager.py\", line 9, in place_market_order\n",
      "    order = self.exchange.ccxt.create_market_order(symbol, side, amount, params)\n",
      "  File \"c:\\Users\\antci\\AppData\\Local\\pypoetry\\Cache\\virtualenvs\\tradingstation-t6aH0csb-py3.10\\lib\\site-packages\\ccxt\\base\\exchange.py\", line 4772, in create_market_order\n",
      "    return self.create_order(symbol, 'market', side, amount, price, params)\n",
      "  File \"c:\\Users\\antci\\AppData\\Local\\pypoetry\\Cache\\virtualenvs\\tradingstation-t6aH0csb-py3.10\\lib\\site-packages\\ccxt\\bybit.py\", line 3367, in create_order\n",
      "    orderRequest = self.create_order_request(symbol, type, side, amount, price, params, enableUnifiedAccount)\n",
      "  File \"c:\\Users\\antci\\AppData\\Local\\pypoetry\\Cache\\virtualenvs\\tradingstation-t6aH0csb-py3.10\\lib\\site-packages\\ccxt\\bybit.py\", line 3428, in create_order_request\n",
      "    trailingTriggerPrice = self.safe_string_2(params, 'trailingTriggerPrice', 'activePrice', self.number_to_string(price))\n",
      "  File \"c:\\Users\\antci\\AppData\\Local\\pypoetry\\Cache\\virtualenvs\\tradingstation-t6aH0csb-py3.10\\lib\\site-packages\\ccxt\\base\\decimal_to_precision.py\", line 172, in number_to_string\n",
      "    d = decimal.Decimal(str(x))\n",
      "decimal.InvalidOperation: [<class 'decimal.ConversionSyntax'>]\n"
     ]
    }
   ],
   "source": [
    "order = order_manager.place_market_order(symbol,'buy', 0.1)"
   ]
  },
  {
   "cell_type": "code",
   "execution_count": 6,
   "metadata": {},
   "outputs": [
    {
     "name": "stderr",
     "output_type": "stream",
     "text": [
      "TradingStation - INFO - Limit order placed\n"
     ]
    }
   ],
   "source": [
    "order = order_manager.place_limit_order(symbol, 'buy', 0.1, 5)"
   ]
  },
  {
   "cell_type": "code",
   "execution_count": null,
   "metadata": {},
   "outputs": [],
   "source": [
    "exchange.ccxt.create_re"
   ]
  }
 ],
 "metadata": {
  "kernelspec": {
   "display_name": "tradingstation-t6aH0csb-py3.10",
   "language": "python",
   "name": "python3"
  },
  "language_info": {
   "codemirror_mode": {
    "name": "ipython",
    "version": 3
   },
   "file_extension": ".py",
   "mimetype": "text/x-python",
   "name": "python",
   "nbconvert_exporter": "python",
   "pygments_lexer": "ipython3",
   "version": "3.10.0"
  }
 },
 "nbformat": 4,
 "nbformat_minor": 2
}
