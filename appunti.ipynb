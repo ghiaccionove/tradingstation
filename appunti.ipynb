{
 "cells": [
  {
   "cell_type": "code",
   "execution_count": 1,
   "metadata": {},
   "outputs": [],
   "source": [
    "from utils.exchange_manager import Exchange\n",
    "from utils.data_fetcher import *\n",
    "from signals.signals_generator import *"
   ]
  },
  {
   "cell_type": "code",
   "execution_count": 2,
   "metadata": {},
   "outputs": [],
   "source": [
    "exchange = Exchange('bybit')"
   ]
  },
  {
   "cell_type": "code",
   "execution_count": 3,
   "metadata": {},
   "outputs": [],
   "source": [
    "from strategies.base_strategy import Valubot"
   ]
  },
  {
   "cell_type": "code",
   "execution_count": 4,
   "metadata": {},
   "outputs": [],
   "source": [
    "symbol = 'TON/USDT:USDT'"
   ]
  },
  {
   "cell_type": "code",
   "execution_count": 7,
   "metadata": {},
   "outputs": [
    {
     "name": "stderr",
     "output_type": "stream",
     "text": [
      "TradingStation - INFO - TON/USDT:USDT\n"
     ]
    }
   ],
   "source": [
    "data = fetch_market_data(exchange, symbol)"
   ]
  },
  {
   "cell_type": "code",
   "execution_count": 8,
   "metadata": {},
   "outputs": [
    {
     "data": {
      "text/plain": [
       "'Wait'"
      ]
     },
     "execution_count": 8,
     "metadata": {},
     "output_type": "execute_result"
    }
   ],
   "source": [
    "Valubot(data, exchange).generate_signal(symbol)"
   ]
  },
  {
   "cell_type": "code",
   "execution_count": 3,
   "metadata": {},
   "outputs": [],
   "source": [
    "symbols = fetch_symbols(exchange)"
   ]
  },
  {
   "cell_type": "code",
   "execution_count": 35,
   "metadata": {},
   "outputs": [],
   "source": [
    "og = markets[markets['symbol'] == 'OG/USDT:USDT']"
   ]
  },
  {
   "cell_type": "code",
   "execution_count": 66,
   "metadata": {},
   "outputs": [
    {
     "data": {
      "text/plain": [
       "{'leverage': {'min': 1.0, 'max': 12.5},\n",
       " 'amount': {'min': 0.1, 'max': 8250.0},\n",
       " 'price': {'min': 0.0001, 'max': 199.9998},\n",
       " 'cost': {'min': None, 'max': None}}"
      ]
     },
     "execution_count": 66,
     "metadata": {},
     "output_type": "execute_result"
    }
   ],
   "source": [
    "og['limits'].iloc[0]"
   ]
  },
  {
   "cell_type": "code",
   "execution_count": 8,
   "metadata": {},
   "outputs": [],
   "source": [
    "data = exchange.ccxt.load_markets()"
   ]
  },
  {
   "cell_type": "code",
   "execution_count": 13,
   "metadata": {},
   "outputs": [
    {
     "data": {
      "text/plain": [
       "{'leverage': {'min': 1.0, 'max': 25.0},\n",
       " 'amount': {'min': 0.1, 'max': 158760.0},\n",
       " 'price': {'min': 0.0001, 'max': 199.9998},\n",
       " 'cost': {'min': None, 'max': None}}"
      ]
     },
     "execution_count": 13,
     "metadata": {},
     "output_type": "execute_result"
    }
   ],
   "source": [
    "data['TON/USDT:USDT']['limits']"
   ]
  },
  {
   "cell_type": "code",
   "execution_count": 9,
   "metadata": {},
   "outputs": [],
   "source": [
    "from orders.ordermanager import OrderManager"
   ]
  },
  {
   "cell_type": "code",
   "execution_count": 10,
   "metadata": {},
   "outputs": [],
   "source": [
    "order_manager = OrderManager(exchange)"
   ]
  },
  {
   "cell_type": "code",
   "execution_count": 12,
   "metadata": {},
   "outputs": [
    {
     "name": "stderr",
     "output_type": "stream",
     "text": [
      "TradingStation - INFO - Market order placed\n"
     ]
    }
   ],
   "source": [
    "order = order_manager.place_market_order(symbol,'sell', amount=0.1)"
   ]
  },
  {
   "cell_type": "code",
   "execution_count": 8,
   "metadata": {},
   "outputs": [
    {
     "data": {
      "text/plain": [
       "{'info': {'orderId': '55af5021-4ea0-46ec-b7e2-f55ec8aaa093',\n",
       "  'orderLinkId': ''},\n",
       " 'id': '55af5021-4ea0-46ec-b7e2-f55ec8aaa093',\n",
       " 'clientOrderId': None,\n",
       " 'timestamp': None,\n",
       " 'datetime': None,\n",
       " 'lastTradeTimestamp': None,\n",
       " 'lastUpdateTimestamp': None,\n",
       " 'symbol': 'TON/USDT:USDT',\n",
       " 'type': None,\n",
       " 'timeInForce': None,\n",
       " 'postOnly': None,\n",
       " 'reduceOnly': None,\n",
       " 'side': None,\n",
       " 'price': None,\n",
       " 'stopPrice': None,\n",
       " 'triggerPrice': None,\n",
       " 'takeProfitPrice': None,\n",
       " 'stopLossPrice': None,\n",
       " 'amount': None,\n",
       " 'cost': None,\n",
       " 'average': None,\n",
       " 'filled': None,\n",
       " 'remaining': None,\n",
       " 'status': None,\n",
       " 'fee': None,\n",
       " 'trades': [],\n",
       " 'fees': []}"
      ]
     },
     "execution_count": 8,
     "metadata": {},
     "output_type": "execute_result"
    }
   ],
   "source": [
    "order"
   ]
  },
  {
   "cell_type": "code",
   "execution_count": null,
   "metadata": {},
   "outputs": [],
   "source": []
  }
 ],
 "metadata": {
  "kernelspec": {
   "display_name": "tradingstation-t6aH0csb-py3.10",
   "language": "python",
   "name": "python3"
  },
  "language_info": {
   "codemirror_mode": {
    "name": "ipython",
    "version": 3
   },
   "file_extension": ".py",
   "mimetype": "text/x-python",
   "name": "python",
   "nbconvert_exporter": "python",
   "pygments_lexer": "ipython3",
   "version": "3.10.0"
  }
 },
 "nbformat": 4,
 "nbformat_minor": 2
}
